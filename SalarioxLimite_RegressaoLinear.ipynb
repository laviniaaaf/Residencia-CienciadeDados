{
  "cells": [
    {
      "cell_type": "markdown",
      "source": [
        "#Importando as bibliotecas:"
      ],
      "metadata": {
        "id": "cyDNyArPQl0T"
      }
    },
    {
      "cell_type": "code",
      "execution_count": 62,
      "metadata": {
        "id": "K50Y_nGriKuY"
      },
      "outputs": [],
      "source": [
        "# Importando as bibliotecas necessárias\n",
        "import numpy as np\n",
        "import pandas as pd\n",
        "import matplotlib.pyplot as plt\n",
        "from sklearn.linear_model import LinearRegression, LogisticRegression\n",
        "from sklearn.datasets import load_diabetes, load_breast_cancer\n",
        "from sklearn.model_selection import train_test_split\n",
        "from sklearn.metrics import mean_absolute_error, mean_squared_error, r2_score\n",
        "from sklearn.metrics import classification_report,mean_squared_error, r2_score, accuracy_score, confusion_matrix\n",
        "\n",
        "import seaborn as sns\n",
        "sns.set(style='whitegrid')"
      ]
    },
    {
      "cell_type": "markdown",
      "metadata": {
        "id": "K1-AQI5UizYZ"
      },
      "source": [
        "## 📂 Carregando o Dataset\n"
      ]
    },
    {
      "cell_type": "markdown",
      "source": [],
      "metadata": {
        "id": "5PGJH7zBHRJS"
      }
    },
    {
      "cell_type": "code",
      "source": [
        "# Use a função read_csv do pandas com a URL correta para ler a planilha como um CSV\n",
        "!gdown '1gn8za6CPhzaG4nj5BN8E1Fqkx09neIrW'\n",
        "\n",
        "df = pd.read_excel('/content/SalarioxLimite_RegressaoLinear.xlsx')"
      ],
      "metadata": {
        "colab": {
          "base_uri": "https://localhost:8080/"
        },
        "id": "ADPfdBJDriyF",
        "outputId": "479b116d-ba80-4702-ac70-52c0b79448db"
      },
      "execution_count": 3,
      "outputs": [
        {
          "output_type": "stream",
          "name": "stdout",
          "text": [
            "Downloading...\n",
            "From: https://drive.google.com/uc?id=1gn8za6CPhzaG4nj5BN8E1Fqkx09neIrW\n",
            "To: /content/SalarioxLimite_RegressaoLinear.xlsx\n",
            "\r  0% 0.00/12.6k [00:00<?, ?B/s]\r100% 12.6k/12.6k [00:00<00:00, 29.7MB/s]\n"
          ]
        }
      ]
    },
    {
      "cell_type": "code",
      "source": [
        "df.head()"
      ],
      "metadata": {
        "colab": {
          "base_uri": "https://localhost:8080/",
          "height": 206
        },
        "collapsed": true,
        "id": "6PZwEneRRC6u",
        "outputId": "0cf991f1-a042-43b2-c2d3-21972b97d122"
      },
      "execution_count": 4,
      "outputs": [
        {
          "output_type": "execute_result",
          "data": {
            "text/plain": [
              "       Salario  Limite_Emprestimo\n",
              "0  1250.219130        2900.124323\n",
              "1  1262.721321        2929.125566\n",
              "2  1275.348535        2958.416822\n",
              "3  1288.102020        2988.000990\n",
              "4  1300.983040        3017.881000"
            ],
            "text/html": [
              "\n",
              "  <div id=\"df-0d6d4bc7-3355-42e9-892e-3185fd6bd8bd\" class=\"colab-df-container\">\n",
              "    <div>\n",
              "<style scoped>\n",
              "    .dataframe tbody tr th:only-of-type {\n",
              "        vertical-align: middle;\n",
              "    }\n",
              "\n",
              "    .dataframe tbody tr th {\n",
              "        vertical-align: top;\n",
              "    }\n",
              "\n",
              "    .dataframe thead th {\n",
              "        text-align: right;\n",
              "    }\n",
              "</style>\n",
              "<table border=\"1\" class=\"dataframe\">\n",
              "  <thead>\n",
              "    <tr style=\"text-align: right;\">\n",
              "      <th></th>\n",
              "      <th>Salario</th>\n",
              "      <th>Limite_Emprestimo</th>\n",
              "    </tr>\n",
              "  </thead>\n",
              "  <tbody>\n",
              "    <tr>\n",
              "      <th>0</th>\n",
              "      <td>1250.219130</td>\n",
              "      <td>2900.124323</td>\n",
              "    </tr>\n",
              "    <tr>\n",
              "      <th>1</th>\n",
              "      <td>1262.721321</td>\n",
              "      <td>2929.125566</td>\n",
              "    </tr>\n",
              "    <tr>\n",
              "      <th>2</th>\n",
              "      <td>1275.348535</td>\n",
              "      <td>2958.416822</td>\n",
              "    </tr>\n",
              "    <tr>\n",
              "      <th>3</th>\n",
              "      <td>1288.102020</td>\n",
              "      <td>2988.000990</td>\n",
              "    </tr>\n",
              "    <tr>\n",
              "      <th>4</th>\n",
              "      <td>1300.983040</td>\n",
              "      <td>3017.881000</td>\n",
              "    </tr>\n",
              "  </tbody>\n",
              "</table>\n",
              "</div>\n",
              "    <div class=\"colab-df-buttons\">\n",
              "\n",
              "  <div class=\"colab-df-container\">\n",
              "    <button class=\"colab-df-convert\" onclick=\"convertToInteractive('df-0d6d4bc7-3355-42e9-892e-3185fd6bd8bd')\"\n",
              "            title=\"Convert this dataframe to an interactive table.\"\n",
              "            style=\"display:none;\">\n",
              "\n",
              "  <svg xmlns=\"http://www.w3.org/2000/svg\" height=\"24px\" viewBox=\"0 -960 960 960\">\n",
              "    <path d=\"M120-120v-720h720v720H120Zm60-500h600v-160H180v160Zm220 220h160v-160H400v160Zm0 220h160v-160H400v160ZM180-400h160v-160H180v160Zm440 0h160v-160H620v160ZM180-180h160v-160H180v160Zm440 0h160v-160H620v160Z\"/>\n",
              "  </svg>\n",
              "    </button>\n",
              "\n",
              "  <style>\n",
              "    .colab-df-container {\n",
              "      display:flex;\n",
              "      gap: 12px;\n",
              "    }\n",
              "\n",
              "    .colab-df-convert {\n",
              "      background-color: #E8F0FE;\n",
              "      border: none;\n",
              "      border-radius: 50%;\n",
              "      cursor: pointer;\n",
              "      display: none;\n",
              "      fill: #1967D2;\n",
              "      height: 32px;\n",
              "      padding: 0 0 0 0;\n",
              "      width: 32px;\n",
              "    }\n",
              "\n",
              "    .colab-df-convert:hover {\n",
              "      background-color: #E2EBFA;\n",
              "      box-shadow: 0px 1px 2px rgba(60, 64, 67, 0.3), 0px 1px 3px 1px rgba(60, 64, 67, 0.15);\n",
              "      fill: #174EA6;\n",
              "    }\n",
              "\n",
              "    .colab-df-buttons div {\n",
              "      margin-bottom: 4px;\n",
              "    }\n",
              "\n",
              "    [theme=dark] .colab-df-convert {\n",
              "      background-color: #3B4455;\n",
              "      fill: #D2E3FC;\n",
              "    }\n",
              "\n",
              "    [theme=dark] .colab-df-convert:hover {\n",
              "      background-color: #434B5C;\n",
              "      box-shadow: 0px 1px 3px 1px rgba(0, 0, 0, 0.15);\n",
              "      filter: drop-shadow(0px 1px 2px rgba(0, 0, 0, 0.3));\n",
              "      fill: #FFFFFF;\n",
              "    }\n",
              "  </style>\n",
              "\n",
              "    <script>\n",
              "      const buttonEl =\n",
              "        document.querySelector('#df-0d6d4bc7-3355-42e9-892e-3185fd6bd8bd button.colab-df-convert');\n",
              "      buttonEl.style.display =\n",
              "        google.colab.kernel.accessAllowed ? 'block' : 'none';\n",
              "\n",
              "      async function convertToInteractive(key) {\n",
              "        const element = document.querySelector('#df-0d6d4bc7-3355-42e9-892e-3185fd6bd8bd');\n",
              "        const dataTable =\n",
              "          await google.colab.kernel.invokeFunction('convertToInteractive',\n",
              "                                                    [key], {});\n",
              "        if (!dataTable) return;\n",
              "\n",
              "        const docLinkHtml = 'Like what you see? Visit the ' +\n",
              "          '<a target=\"_blank\" href=https://colab.research.google.com/notebooks/data_table.ipynb>data table notebook</a>'\n",
              "          + ' to learn more about interactive tables.';\n",
              "        element.innerHTML = '';\n",
              "        dataTable['output_type'] = 'display_data';\n",
              "        await google.colab.output.renderOutput(dataTable, element);\n",
              "        const docLink = document.createElement('div');\n",
              "        docLink.innerHTML = docLinkHtml;\n",
              "        element.appendChild(docLink);\n",
              "      }\n",
              "    </script>\n",
              "  </div>\n",
              "\n",
              "\n",
              "<div id=\"df-36ba953f-e266-4c69-a476-11e8a02fe916\">\n",
              "  <button class=\"colab-df-quickchart\" onclick=\"quickchart('df-36ba953f-e266-4c69-a476-11e8a02fe916')\"\n",
              "            title=\"Suggest charts\"\n",
              "            style=\"display:none;\">\n",
              "\n",
              "<svg xmlns=\"http://www.w3.org/2000/svg\" height=\"24px\"viewBox=\"0 0 24 24\"\n",
              "     width=\"24px\">\n",
              "    <g>\n",
              "        <path d=\"M19 3H5c-1.1 0-2 .9-2 2v14c0 1.1.9 2 2 2h14c1.1 0 2-.9 2-2V5c0-1.1-.9-2-2-2zM9 17H7v-7h2v7zm4 0h-2V7h2v10zm4 0h-2v-4h2v4z\"/>\n",
              "    </g>\n",
              "</svg>\n",
              "  </button>\n",
              "\n",
              "<style>\n",
              "  .colab-df-quickchart {\n",
              "      --bg-color: #E8F0FE;\n",
              "      --fill-color: #1967D2;\n",
              "      --hover-bg-color: #E2EBFA;\n",
              "      --hover-fill-color: #174EA6;\n",
              "      --disabled-fill-color: #AAA;\n",
              "      --disabled-bg-color: #DDD;\n",
              "  }\n",
              "\n",
              "  [theme=dark] .colab-df-quickchart {\n",
              "      --bg-color: #3B4455;\n",
              "      --fill-color: #D2E3FC;\n",
              "      --hover-bg-color: #434B5C;\n",
              "      --hover-fill-color: #FFFFFF;\n",
              "      --disabled-bg-color: #3B4455;\n",
              "      --disabled-fill-color: #666;\n",
              "  }\n",
              "\n",
              "  .colab-df-quickchart {\n",
              "    background-color: var(--bg-color);\n",
              "    border: none;\n",
              "    border-radius: 50%;\n",
              "    cursor: pointer;\n",
              "    display: none;\n",
              "    fill: var(--fill-color);\n",
              "    height: 32px;\n",
              "    padding: 0;\n",
              "    width: 32px;\n",
              "  }\n",
              "\n",
              "  .colab-df-quickchart:hover {\n",
              "    background-color: var(--hover-bg-color);\n",
              "    box-shadow: 0 1px 2px rgba(60, 64, 67, 0.3), 0 1px 3px 1px rgba(60, 64, 67, 0.15);\n",
              "    fill: var(--button-hover-fill-color);\n",
              "  }\n",
              "\n",
              "  .colab-df-quickchart-complete:disabled,\n",
              "  .colab-df-quickchart-complete:disabled:hover {\n",
              "    background-color: var(--disabled-bg-color);\n",
              "    fill: var(--disabled-fill-color);\n",
              "    box-shadow: none;\n",
              "  }\n",
              "\n",
              "  .colab-df-spinner {\n",
              "    border: 2px solid var(--fill-color);\n",
              "    border-color: transparent;\n",
              "    border-bottom-color: var(--fill-color);\n",
              "    animation:\n",
              "      spin 1s steps(1) infinite;\n",
              "  }\n",
              "\n",
              "  @keyframes spin {\n",
              "    0% {\n",
              "      border-color: transparent;\n",
              "      border-bottom-color: var(--fill-color);\n",
              "      border-left-color: var(--fill-color);\n",
              "    }\n",
              "    20% {\n",
              "      border-color: transparent;\n",
              "      border-left-color: var(--fill-color);\n",
              "      border-top-color: var(--fill-color);\n",
              "    }\n",
              "    30% {\n",
              "      border-color: transparent;\n",
              "      border-left-color: var(--fill-color);\n",
              "      border-top-color: var(--fill-color);\n",
              "      border-right-color: var(--fill-color);\n",
              "    }\n",
              "    40% {\n",
              "      border-color: transparent;\n",
              "      border-right-color: var(--fill-color);\n",
              "      border-top-color: var(--fill-color);\n",
              "    }\n",
              "    60% {\n",
              "      border-color: transparent;\n",
              "      border-right-color: var(--fill-color);\n",
              "    }\n",
              "    80% {\n",
              "      border-color: transparent;\n",
              "      border-right-color: var(--fill-color);\n",
              "      border-bottom-color: var(--fill-color);\n",
              "    }\n",
              "    90% {\n",
              "      border-color: transparent;\n",
              "      border-bottom-color: var(--fill-color);\n",
              "    }\n",
              "  }\n",
              "</style>\n",
              "\n",
              "  <script>\n",
              "    async function quickchart(key) {\n",
              "      const quickchartButtonEl =\n",
              "        document.querySelector('#' + key + ' button');\n",
              "      quickchartButtonEl.disabled = true;  // To prevent multiple clicks.\n",
              "      quickchartButtonEl.classList.add('colab-df-spinner');\n",
              "      try {\n",
              "        const charts = await google.colab.kernel.invokeFunction(\n",
              "            'suggestCharts', [key], {});\n",
              "      } catch (error) {\n",
              "        console.error('Error during call to suggestCharts:', error);\n",
              "      }\n",
              "      quickchartButtonEl.classList.remove('colab-df-spinner');\n",
              "      quickchartButtonEl.classList.add('colab-df-quickchart-complete');\n",
              "    }\n",
              "    (() => {\n",
              "      let quickchartButtonEl =\n",
              "        document.querySelector('#df-36ba953f-e266-4c69-a476-11e8a02fe916 button');\n",
              "      quickchartButtonEl.style.display =\n",
              "        google.colab.kernel.accessAllowed ? 'block' : 'none';\n",
              "    })();\n",
              "  </script>\n",
              "</div>\n",
              "\n",
              "    </div>\n",
              "  </div>\n"
            ],
            "application/vnd.google.colaboratory.intrinsic+json": {
              "type": "dataframe",
              "variable_name": "df",
              "summary": "{\n  \"name\": \"df\",\n  \"rows\": 99,\n  \"fields\": [\n    {\n      \"column\": \"Salario\",\n      \"properties\": {\n        \"dtype\": \"number\",\n        \"std\": 600.8329833362092,\n        \"min\": 1250.21913,\n        \"max\": 3314.9789164114777,\n        \"num_unique_values\": 99,\n        \"samples\": [\n          2316.9214721683175,\n          1861.4059216952176,\n          3217.485876856839\n        ],\n        \"semantic_type\": \"\",\n        \"description\": \"\"\n      }\n    },\n    {\n      \"column\": \"Limite_Emprestimo\",\n      \"properties\": {\n        \"dtype\": \"number\",\n        \"std\": 1378.1139612151221,\n        \"min\": 2900.124323,\n        \"max\": 7423.3849095556725,\n        \"num_unique_values\": 93,\n        \"samples\": [\n          4583.5271660247045,\n          3719.2122213428934,\n          5321.3327458497115\n        ],\n        \"semantic_type\": \"\",\n        \"description\": \"\"\n      }\n    }\n  ]\n}"
            }
          },
          "metadata": {},
          "execution_count": 4
        }
      ]
    },
    {
      "cell_type": "code",
      "source": [
        "print(df)"
      ],
      "metadata": {
        "colab": {
          "base_uri": "https://localhost:8080/"
        },
        "collapsed": true,
        "id": "RE1W5dIWSWcX",
        "outputId": "55c85a33-209c-4d98-bd96-78ea42eef7e5"
      },
      "execution_count": 6,
      "outputs": [
        {
          "output_type": "stream",
          "name": "stdout",
          "text": [
            "        Salario  Limite_Emprestimo\n",
            "0   1250.219130        2900.124323\n",
            "1   1262.721321        2929.125566\n",
            "2   1275.348535        2958.416822\n",
            "3   1288.102020        2988.000990\n",
            "4   1300.983040        3017.881000\n",
            "..          ...                ...\n",
            "94  3185.629581        7279.937858\n",
            "95  3217.485877        7315.799621\n",
            "96  3249.660736        7351.661384\n",
            "97  3282.157343        7387.523147\n",
            "98  3314.978916        7423.384910\n",
            "\n",
            "[99 rows x 2 columns]\n"
          ]
        }
      ]
    },
    {
      "cell_type": "code",
      "source": [
        "df.tail()"
      ],
      "metadata": {
        "colab": {
          "base_uri": "https://localhost:8080/",
          "height": 206
        },
        "collapsed": true,
        "id": "_gth2FshS4UZ",
        "outputId": "4d4f1138-0d9d-4a57-bbea-dbe350733d17"
      },
      "execution_count": 7,
      "outputs": [
        {
          "output_type": "execute_result",
          "data": {
            "text/plain": [
              "        Salario  Limite_Emprestimo\n",
              "94  3185.629581        7279.937858\n",
              "95  3217.485877        7315.799621\n",
              "96  3249.660736        7351.661384\n",
              "97  3282.157343        7387.523147\n",
              "98  3314.978916        7423.384910"
            ],
            "text/html": [
              "\n",
              "  <div id=\"df-1b4f877b-829d-42f9-9b9d-a6b6abbc0e7e\" class=\"colab-df-container\">\n",
              "    <div>\n",
              "<style scoped>\n",
              "    .dataframe tbody tr th:only-of-type {\n",
              "        vertical-align: middle;\n",
              "    }\n",
              "\n",
              "    .dataframe tbody tr th {\n",
              "        vertical-align: top;\n",
              "    }\n",
              "\n",
              "    .dataframe thead th {\n",
              "        text-align: right;\n",
              "    }\n",
              "</style>\n",
              "<table border=\"1\" class=\"dataframe\">\n",
              "  <thead>\n",
              "    <tr style=\"text-align: right;\">\n",
              "      <th></th>\n",
              "      <th>Salario</th>\n",
              "      <th>Limite_Emprestimo</th>\n",
              "    </tr>\n",
              "  </thead>\n",
              "  <tbody>\n",
              "    <tr>\n",
              "      <th>94</th>\n",
              "      <td>3185.629581</td>\n",
              "      <td>7279.937858</td>\n",
              "    </tr>\n",
              "    <tr>\n",
              "      <th>95</th>\n",
              "      <td>3217.485877</td>\n",
              "      <td>7315.799621</td>\n",
              "    </tr>\n",
              "    <tr>\n",
              "      <th>96</th>\n",
              "      <td>3249.660736</td>\n",
              "      <td>7351.661384</td>\n",
              "    </tr>\n",
              "    <tr>\n",
              "      <th>97</th>\n",
              "      <td>3282.157343</td>\n",
              "      <td>7387.523147</td>\n",
              "    </tr>\n",
              "    <tr>\n",
              "      <th>98</th>\n",
              "      <td>3314.978916</td>\n",
              "      <td>7423.384910</td>\n",
              "    </tr>\n",
              "  </tbody>\n",
              "</table>\n",
              "</div>\n",
              "    <div class=\"colab-df-buttons\">\n",
              "\n",
              "  <div class=\"colab-df-container\">\n",
              "    <button class=\"colab-df-convert\" onclick=\"convertToInteractive('df-1b4f877b-829d-42f9-9b9d-a6b6abbc0e7e')\"\n",
              "            title=\"Convert this dataframe to an interactive table.\"\n",
              "            style=\"display:none;\">\n",
              "\n",
              "  <svg xmlns=\"http://www.w3.org/2000/svg\" height=\"24px\" viewBox=\"0 -960 960 960\">\n",
              "    <path d=\"M120-120v-720h720v720H120Zm60-500h600v-160H180v160Zm220 220h160v-160H400v160Zm0 220h160v-160H400v160ZM180-400h160v-160H180v160Zm440 0h160v-160H620v160ZM180-180h160v-160H180v160Zm440 0h160v-160H620v160Z\"/>\n",
              "  </svg>\n",
              "    </button>\n",
              "\n",
              "  <style>\n",
              "    .colab-df-container {\n",
              "      display:flex;\n",
              "      gap: 12px;\n",
              "    }\n",
              "\n",
              "    .colab-df-convert {\n",
              "      background-color: #E8F0FE;\n",
              "      border: none;\n",
              "      border-radius: 50%;\n",
              "      cursor: pointer;\n",
              "      display: none;\n",
              "      fill: #1967D2;\n",
              "      height: 32px;\n",
              "      padding: 0 0 0 0;\n",
              "      width: 32px;\n",
              "    }\n",
              "\n",
              "    .colab-df-convert:hover {\n",
              "      background-color: #E2EBFA;\n",
              "      box-shadow: 0px 1px 2px rgba(60, 64, 67, 0.3), 0px 1px 3px 1px rgba(60, 64, 67, 0.15);\n",
              "      fill: #174EA6;\n",
              "    }\n",
              "\n",
              "    .colab-df-buttons div {\n",
              "      margin-bottom: 4px;\n",
              "    }\n",
              "\n",
              "    [theme=dark] .colab-df-convert {\n",
              "      background-color: #3B4455;\n",
              "      fill: #D2E3FC;\n",
              "    }\n",
              "\n",
              "    [theme=dark] .colab-df-convert:hover {\n",
              "      background-color: #434B5C;\n",
              "      box-shadow: 0px 1px 3px 1px rgba(0, 0, 0, 0.15);\n",
              "      filter: drop-shadow(0px 1px 2px rgba(0, 0, 0, 0.3));\n",
              "      fill: #FFFFFF;\n",
              "    }\n",
              "  </style>\n",
              "\n",
              "    <script>\n",
              "      const buttonEl =\n",
              "        document.querySelector('#df-1b4f877b-829d-42f9-9b9d-a6b6abbc0e7e button.colab-df-convert');\n",
              "      buttonEl.style.display =\n",
              "        google.colab.kernel.accessAllowed ? 'block' : 'none';\n",
              "\n",
              "      async function convertToInteractive(key) {\n",
              "        const element = document.querySelector('#df-1b4f877b-829d-42f9-9b9d-a6b6abbc0e7e');\n",
              "        const dataTable =\n",
              "          await google.colab.kernel.invokeFunction('convertToInteractive',\n",
              "                                                    [key], {});\n",
              "        if (!dataTable) return;\n",
              "\n",
              "        const docLinkHtml = 'Like what you see? Visit the ' +\n",
              "          '<a target=\"_blank\" href=https://colab.research.google.com/notebooks/data_table.ipynb>data table notebook</a>'\n",
              "          + ' to learn more about interactive tables.';\n",
              "        element.innerHTML = '';\n",
              "        dataTable['output_type'] = 'display_data';\n",
              "        await google.colab.output.renderOutput(dataTable, element);\n",
              "        const docLink = document.createElement('div');\n",
              "        docLink.innerHTML = docLinkHtml;\n",
              "        element.appendChild(docLink);\n",
              "      }\n",
              "    </script>\n",
              "  </div>\n",
              "\n",
              "\n",
              "<div id=\"df-2e0006a4-ec7d-4b8a-b321-c7af045496f2\">\n",
              "  <button class=\"colab-df-quickchart\" onclick=\"quickchart('df-2e0006a4-ec7d-4b8a-b321-c7af045496f2')\"\n",
              "            title=\"Suggest charts\"\n",
              "            style=\"display:none;\">\n",
              "\n",
              "<svg xmlns=\"http://www.w3.org/2000/svg\" height=\"24px\"viewBox=\"0 0 24 24\"\n",
              "     width=\"24px\">\n",
              "    <g>\n",
              "        <path d=\"M19 3H5c-1.1 0-2 .9-2 2v14c0 1.1.9 2 2 2h14c1.1 0 2-.9 2-2V5c0-1.1-.9-2-2-2zM9 17H7v-7h2v7zm4 0h-2V7h2v10zm4 0h-2v-4h2v4z\"/>\n",
              "    </g>\n",
              "</svg>\n",
              "  </button>\n",
              "\n",
              "<style>\n",
              "  .colab-df-quickchart {\n",
              "      --bg-color: #E8F0FE;\n",
              "      --fill-color: #1967D2;\n",
              "      --hover-bg-color: #E2EBFA;\n",
              "      --hover-fill-color: #174EA6;\n",
              "      --disabled-fill-color: #AAA;\n",
              "      --disabled-bg-color: #DDD;\n",
              "  }\n",
              "\n",
              "  [theme=dark] .colab-df-quickchart {\n",
              "      --bg-color: #3B4455;\n",
              "      --fill-color: #D2E3FC;\n",
              "      --hover-bg-color: #434B5C;\n",
              "      --hover-fill-color: #FFFFFF;\n",
              "      --disabled-bg-color: #3B4455;\n",
              "      --disabled-fill-color: #666;\n",
              "  }\n",
              "\n",
              "  .colab-df-quickchart {\n",
              "    background-color: var(--bg-color);\n",
              "    border: none;\n",
              "    border-radius: 50%;\n",
              "    cursor: pointer;\n",
              "    display: none;\n",
              "    fill: var(--fill-color);\n",
              "    height: 32px;\n",
              "    padding: 0;\n",
              "    width: 32px;\n",
              "  }\n",
              "\n",
              "  .colab-df-quickchart:hover {\n",
              "    background-color: var(--hover-bg-color);\n",
              "    box-shadow: 0 1px 2px rgba(60, 64, 67, 0.3), 0 1px 3px 1px rgba(60, 64, 67, 0.15);\n",
              "    fill: var(--button-hover-fill-color);\n",
              "  }\n",
              "\n",
              "  .colab-df-quickchart-complete:disabled,\n",
              "  .colab-df-quickchart-complete:disabled:hover {\n",
              "    background-color: var(--disabled-bg-color);\n",
              "    fill: var(--disabled-fill-color);\n",
              "    box-shadow: none;\n",
              "  }\n",
              "\n",
              "  .colab-df-spinner {\n",
              "    border: 2px solid var(--fill-color);\n",
              "    border-color: transparent;\n",
              "    border-bottom-color: var(--fill-color);\n",
              "    animation:\n",
              "      spin 1s steps(1) infinite;\n",
              "  }\n",
              "\n",
              "  @keyframes spin {\n",
              "    0% {\n",
              "      border-color: transparent;\n",
              "      border-bottom-color: var(--fill-color);\n",
              "      border-left-color: var(--fill-color);\n",
              "    }\n",
              "    20% {\n",
              "      border-color: transparent;\n",
              "      border-left-color: var(--fill-color);\n",
              "      border-top-color: var(--fill-color);\n",
              "    }\n",
              "    30% {\n",
              "      border-color: transparent;\n",
              "      border-left-color: var(--fill-color);\n",
              "      border-top-color: var(--fill-color);\n",
              "      border-right-color: var(--fill-color);\n",
              "    }\n",
              "    40% {\n",
              "      border-color: transparent;\n",
              "      border-right-color: var(--fill-color);\n",
              "      border-top-color: var(--fill-color);\n",
              "    }\n",
              "    60% {\n",
              "      border-color: transparent;\n",
              "      border-right-color: var(--fill-color);\n",
              "    }\n",
              "    80% {\n",
              "      border-color: transparent;\n",
              "      border-right-color: var(--fill-color);\n",
              "      border-bottom-color: var(--fill-color);\n",
              "    }\n",
              "    90% {\n",
              "      border-color: transparent;\n",
              "      border-bottom-color: var(--fill-color);\n",
              "    }\n",
              "  }\n",
              "</style>\n",
              "\n",
              "  <script>\n",
              "    async function quickchart(key) {\n",
              "      const quickchartButtonEl =\n",
              "        document.querySelector('#' + key + ' button');\n",
              "      quickchartButtonEl.disabled = true;  // To prevent multiple clicks.\n",
              "      quickchartButtonEl.classList.add('colab-df-spinner');\n",
              "      try {\n",
              "        const charts = await google.colab.kernel.invokeFunction(\n",
              "            'suggestCharts', [key], {});\n",
              "      } catch (error) {\n",
              "        console.error('Error during call to suggestCharts:', error);\n",
              "      }\n",
              "      quickchartButtonEl.classList.remove('colab-df-spinner');\n",
              "      quickchartButtonEl.classList.add('colab-df-quickchart-complete');\n",
              "    }\n",
              "    (() => {\n",
              "      let quickchartButtonEl =\n",
              "        document.querySelector('#df-2e0006a4-ec7d-4b8a-b321-c7af045496f2 button');\n",
              "      quickchartButtonEl.style.display =\n",
              "        google.colab.kernel.accessAllowed ? 'block' : 'none';\n",
              "    })();\n",
              "  </script>\n",
              "</div>\n",
              "\n",
              "    </div>\n",
              "  </div>\n"
            ],
            "application/vnd.google.colaboratory.intrinsic+json": {
              "type": "dataframe",
              "summary": "{\n  \"name\": \"df\",\n  \"rows\": 5,\n  \"fields\": [\n    {\n      \"column\": \"Salario\",\n      \"properties\": {\n        \"dtype\": \"number\",\n        \"std\": 51.13019385133791,\n        \"min\": 3185.629581046375,\n        \"max\": 3314.9789164114777,\n        \"num_unique_values\": 5,\n        \"samples\": [\n          3217.485876856839,\n          3314.9789164114777,\n          3249.660735625407\n        ],\n        \"semantic_type\": \"\",\n        \"description\": \"\"\n      }\n    },\n    {\n      \"column\": \"Limite_Emprestimo\",\n      \"properties\": {\n        \"dtype\": \"number\",\n        \"std\": 56.70242575439385,\n        \"min\": 7279.937858163292,\n        \"max\": 7423.3849095556725,\n        \"num_unique_values\": 5,\n        \"samples\": [\n          7315.799621011387,\n          7423.3849095556725,\n          7351.661383859482\n        ],\n        \"semantic_type\": \"\",\n        \"description\": \"\"\n      }\n    }\n  ]\n}"
            }
          },
          "metadata": {},
          "execution_count": 7
        }
      ]
    },
    {
      "cell_type": "code",
      "source": [
        "print(df.describe())"
      ],
      "metadata": {
        "colab": {
          "base_uri": "https://localhost:8080/"
        },
        "id": "2OAr7HG3TKgb",
        "outputId": "19645f23-f883-4955-85a2-c942fa537b69"
      },
      "execution_count": 8,
      "outputs": [
        {
          "output_type": "stream",
          "name": "stdout",
          "text": [
            "           Salario  Limite_Emprestimo\n",
            "count    99.000000          99.000000\n",
            "mean   2119.100581        4900.652060\n",
            "std     600.832983        1378.113961\n",
            "min    1250.219130        2900.124323\n",
            "25%    1595.383780        3700.800280\n",
            "50%    2035.792243        4722.412623\n",
            "75%    2597.840528        6026.191986\n",
            "max    3314.978916        7423.384910\n"
          ]
        }
      ]
    },
    {
      "cell_type": "code",
      "source": [
        "# Ver a contagem de valores não nulos e as informações sobre o dtaset\n",
        "\n",
        "df.info()"
      ],
      "metadata": {
        "colab": {
          "base_uri": "https://localhost:8080/"
        },
        "id": "ap1vM4c4nZ-3",
        "outputId": "4d7727bf-e679-4e53-c913-3b7692bdffd4"
      },
      "execution_count": 61,
      "outputs": [
        {
          "output_type": "stream",
          "name": "stdout",
          "text": [
            "<class 'pandas.core.frame.DataFrame'>\n",
            "RangeIndex: 99 entries, 0 to 98\n",
            "Data columns (total 2 columns):\n",
            " #   Column             Non-Null Count  Dtype  \n",
            "---  ------             --------------  -----  \n",
            " 0   Salario            99 non-null     float64\n",
            " 1   Limite_Emprestimo  99 non-null     float64\n",
            "dtypes: float64(2)\n",
            "memory usage: 1.7 KB\n"
          ]
        }
      ]
    },
    {
      "cell_type": "markdown",
      "source": [
        "De acordo com o \"df.info()\" não existe valores nulos"
      ],
      "metadata": {
        "id": "X2dtMm7noTWi"
      }
    },
    {
      "cell_type": "markdown",
      "metadata": {
        "id": "k-9WpLhdlS0S"
      },
      "source": [
        "### 📊 Visualização da Distribuição do Dataset\n"
      ]
    },
    {
      "cell_type": "code",
      "source": [
        "# Gráfico de dispersão\n",
        "plt.scatter(df['Salario'], df['Limite_Emprestimo'])\n",
        "plt.xlabel('Salário')\n",
        "plt.ylabel('Limite de Empréstimo')\n",
        "plt.title('Relação entre o Salário e o Limite de Emprestimo')\n",
        "plt.show()"
      ],
      "metadata": {
        "id": "_a_7EsUitpyX",
        "colab": {
          "base_uri": "https://localhost:8080/",
          "height": 481
        },
        "outputId": "40b17d59-6e56-45ff-a760-246928e387a1"
      },
      "execution_count": 55,
      "outputs": [
        {
          "output_type": "display_data",
          "data": {
            "text/plain": [
              "<Figure size 640x480 with 1 Axes>"
            ],
            "image/png": "[encoded data removed]"
          },
          "metadata": {}
        }
      ]
    },
    {
      "cell_type": "code",
      "source": [
        "plt.hist(df['Salario'], bins=20, alpha=0.7)\n",
        "plt.xlabel('Salário')\n",
        "plt.ylabel('Frequência')\n",
        "plt.title('Distribuição de Salários')\n",
        "plt.show()"
      ],
      "metadata": {
        "colab": {
          "base_uri": "https://localhost:8080/",
          "height": 481
        },
        "id": "u9-gzvn7TxjF",
        "outputId": "de182549-be05-4183-e050-b329aad601ec"
      },
      "execution_count": 12,
      "outputs": [
        {
          "output_type": "display_data",
          "data": {
            "text/plain": [
              "<Figure size 640x480 with 1 Axes>"
            ],
            "image/png": "[encoded data removed]"
          },
          "metadata": {}
        }
      ]
    },
    {
      "cell_type": "markdown",
      "metadata": {
        "id": "UB6kcRLgo55D"
      },
      "source": [
        "### 🛠️ Divisão de Dados e Treinamento\n",
        "\n",
        "\n",
        "---\n",
        "\n"
      ]
    },
    {
      "cell_type": "markdown",
      "metadata": {
        "id": "GbcECM4Z8uOe"
      },
      "source": [
        "Agora vamos dividir o dataset em um conjunto de treinamento e um conjunto de teste. Usaremos 80% dos dados para treinamento e 20% para teste.\n"
      ]
    },
    {
      "cell_type": "code",
      "source": [
        "# Selecionar as colunas numericas\n",
        "df_numeric = df.select_dtypes( include = [np.number])\n",
        "df_numeric = df_numeric.dropna()\n",
        "\n",
        "X = df_numeric.drop(columns=['Limite_Emprestimo'], axis = 1)  # Todas as colunas menos a alvo\n",
        "y = df_numeric['Limite_Emprestimo']"
      ],
      "metadata": {
        "id": "3op4_HnwtrNy"
      },
      "execution_count": 33,
      "outputs": []
    },
    {
      "cell_type": "code",
      "source": [
        "# Divisão de treino e teste\n",
        "\n",
        "X_train, X_test, y_train, y_test = train_test_split(X, y, test_size=0.2, random_state=42)"
      ],
      "metadata": {
        "id": "PloiKi_QZgXM"
      },
      "execution_count": 56,
      "outputs": []
    },
    {
      "cell_type": "code",
      "source": [
        "print(\"X_train\", X_train.mean())\n",
        "print(\"X_test\", X_test.mean())\n",
        "print(\"y_train\", y_train.mean())\n",
        "print(\"y_test\", y_test.mean())"
      ],
      "metadata": {
        "colab": {
          "base_uri": "https://localhost:8080/"
        },
        "id": "4E7L1ZyQZ0xD",
        "outputId": "a2f5dce3-86c7-4b12-abf0-a99c7c4cd906"
      },
      "execution_count": 40,
      "outputs": [
        {
          "output_type": "stream",
          "name": "stdout",
          "text": [
            "X_train Salario    2127.481142\n",
            "dtype: float64\n",
            "X_test Salario    2085.997368\n",
            "dtype: float64\n",
            "y_train 4922.444086168773\n",
            "y_test 4814.573554459184\n"
          ]
        }
      ]
    },
    {
      "cell_type": "markdown",
      "metadata": {
        "id": "7_Vi5MujrAFF"
      },
      "source": [
        "#### 🏋️‍♂️ Treinamento do Modelo\n",
        "\n",
        "Com os dados divididos, podemos treinar nosso modelo de regressão linear.\n"
      ]
    },
    {
      "cell_type": "code",
      "source": [
        "model = LinearRegression()"
      ],
      "metadata": {
        "id": "_VJfrvZQtr6X"
      },
      "execution_count": 45,
      "outputs": []
    },
    {
      "cell_type": "code",
      "source": [
        "model.fit(X_train, y_train)\n",
        "\n",
        "# Fazer previsões\n",
        "y_pred = model.predict(X_test)"
      ],
      "metadata": {
        "id": "fSvqo5UoaxN8"
      },
      "execution_count": 46,
      "outputs": []
    },
    {
      "cell_type": "code",
      "source": [
        "print(\"Coeficientes:\", model.coef_)\n",
        "print(\"Intercepto:\", model.intercept_)\n",
        "print(\"\\nPrevisões para o conjunto de teste:\")\n",
        "print(y_pred)"
      ],
      "metadata": {
        "colab": {
          "base_uri": "https://localhost:8080/"
        },
        "id": "Owl4lWYSapJ_",
        "outputId": "5246d42e-d075-4735-8bbc-c75f24d7c0a0"
      },
      "execution_count": 47,
      "outputs": [
        {
          "output_type": "stream",
          "name": "stdout",
          "text": [
            "Coeficientes: [2.29821148]\n",
            "Intercepto: 33.04250964943094\n",
            "\n",
            "Previsões para o conjunto de teste:\n",
            "[5357.81802792 4310.94696194 7427.5054784  3469.89471875 7576.13418408\n",
            " 6660.87504685 5464.84601583 4396.93284143 3206.91786291 2906.31046278\n",
            " 3944.50091467 6153.73465918 4619.53510589 3754.66097053 4484.6470371\n",
            " 3022.97666348 3609.44470022 3270.71275751 6929.99162547 5973.72600848]\n"
          ]
        }
      ]
    },
    {
      "cell_type": "markdown",
      "metadata": {
        "id": "d74VZH_gu-xd"
      },
      "source": [
        "📈 **Interpretação**: Um RMSE menor e um R² mais próximo de 1.0 indicam um modelo de melhor desempenho."
      ]
    },
    {
      "cell_type": "markdown",
      "source": [
        "#### 📏 Avaliação do Modelo\n",
        "\n",
        "Vamos calcular o RMSE e o R² para avaliar o desempenho do nosso modelo. Também vamos visualizar como as previsões se comparam com os valores reais."
      ],
      "metadata": {
        "id": "5qTfnecxt4b8"
      }
    },
    {
      "cell_type": "markdown",
      "source": [
        "##RMSE = Root Mean Squared Error\n",
        "\n",
        "--> O RMSE é a medida que calcula a raiz quadrática média dos erros entre valores observados (reais) e predições (hipóteses).\n",
        "\n",
        "Mede a média dos erros de previsão em unidades da variável de interesse.\n",
        "\n",
        "- Um RMSE menor indica que o modelo tem um melhor desempenho, pois significa que os erros de previsão são, em média, menores e é útil para entender a magnitude dos erros."
      ],
      "metadata": {
        "id": "QOl_ltXibt7N"
      }
    },
    {
      "cell_type": "code",
      "source": [
        "rmse = np.sqrt(mean_squared_error(y_test, y_pred))\n",
        "\n",
        "print(\"RMSE:\", rmse)"
      ],
      "metadata": {
        "id": "S71w4gZ0t-VB",
        "colab": {
          "base_uri": "https://localhost:8080/"
        },
        "outputId": "cc5be191-a21c-44cd-b388-ff70e918b2f1"
      },
      "execution_count": 50,
      "outputs": [
        {
          "output_type": "stream",
          "name": "stdout",
          "text": [
            "RMSE: 54.168287085041115\n"
          ]
        }
      ]
    },
    {
      "cell_type": "markdown",
      "source": [
        "##R² = Coeficiente de Determinação\n",
        "--> O R²  indica o quão bem o modelo de regressão se ajusta aos dados e faz previsões precisas. Ele varia de 0 a 1.\n",
        "\n",
        "Pode ser de 3 tipos:\n",
        "\n",
        "1- Um R² = 1 significa que o modelo explica 100% da variância dos dados, indicando um ajuste perfeito.\n",
        "\n",
        "2- Um R² próximo de 1.0 indica que o modelo explica a maior parte da variação nos dados, o que é um sinal de bom desempenho.\n",
        "\n",
        "3- Um R² = 0 sugere que o modelo não explica nada da variância dos dados."
      ],
      "metadata": {
        "id": "ZrqAWAsYbDyu"
      }
    },
    {
      "cell_type": "code",
      "source": [
        "r2 = r2_score(y_test, y_pred)\n",
        "\n",
        "print(\"R²:\", r2)"
      ],
      "metadata": {
        "colab": {
          "base_uri": "https://localhost:8080/"
        },
        "id": "nmsrMrY1a-io",
        "outputId": "01d2399c-93bf-410b-abe6-6b886971ab95"
      },
      "execution_count": 49,
      "outputs": [
        {
          "output_type": "stream",
          "name": "stdout",
          "text": [
            "R²: 0.9986294037640446\n"
          ]
        }
      ]
    },
    {
      "cell_type": "markdown",
      "source": [
        "Como o resultado de R²: 0.9986 (que indica que é próximo de 1) então está tendo um bom desempenho."
      ],
      "metadata": {
        "id": "n-jzWFpZmmI0"
      }
    },
    {
      "cell_type": "markdown",
      "source": [
        "::Crie um gráfico de resíduos para visualizar a diferença entre os valores reais e as previsões do modelo."
      ],
      "metadata": {
        "id": "XQ0O7tzfuFOo"
      }
    },
    {
      "cell_type": "code",
      "source": [
        "plt.figure(figsize=(10, 6))\n",
        "plt.scatter(y_test, y_pred, color='blue', label='Previsões')\n",
        "plt.plot([y.min(), y.max()], [y.min(), y.max()], color='red', linestyle='--', label='Linha de Perfeição')\n",
        "plt.xlabel('Valores Reais')\n",
        "plt.ylabel('Valores Previstos')\n",
        "plt.title('Comparação entre os Valores Reais e os Previstos')\n",
        "plt.legend()\n",
        "plt.grid()\n",
        "plt.show()"
      ],
      "metadata": {
        "colab": {
          "base_uri": "https://localhost:8080/",
          "height": 573
        },
        "collapsed": true,
        "id": "3MBgP29FchMT",
        "outputId": "bef5dd9f-01b6-4798-b71c-9f5fcc72ce2d"
      },
      "execution_count": 52,
      "outputs": [
        {
          "output_type": "display_data",
          "data": {
            "text/plain": [
              "<Figure size 1000x600 with 1 Axes>"
            ],
            "image/png": "[encoded data removed]"
          },
          "metadata": {}
        }
      ]
    },
    {
      "cell_type": "code",
      "source": [
        "# Gráfico de Resíduos\n",
        "residuos = y_test - y_pred\n",
        "\n",
        "plt.figure(figsize=(10, 6))\n",
        "plt.scatter(y_pred, residuos, color='blue')\n",
        "plt.axhline(y=0, color='red', linestyle='--')\n",
        "plt.xlabel('Valores Previstos')\n",
        "plt.ylabel('Resíduos')\n",
        "plt.title('Gráfico de Resíduos')\n",
        "plt.grid()\n",
        "plt.show()"
      ],
      "metadata": {
        "id": "RZPSQoAcuJ5b",
        "colab": {
          "base_uri": "https://localhost:8080/",
          "height": 573
        },
        "collapsed": true,
        "outputId": "215fc92c-09ee-4195-fd55-de59b7f9ee79"
      },
      "execution_count": 54,
      "outputs": [
        {
          "output_type": "display_data",
          "data": {
            "text/plain": [
              "<Figure size 1000x600 with 1 Axes>"
            ],
            "image/png": "[encoded data removed]"
          },
          "metadata": {}
        }
      ]
    }
  ],
  "metadata": {
    "colab": {
      "provenance": []
    },
    "kernelspec": {
      "display_name": "Python 3",
      "name": "python3"
    },
    "language_info": {
      "name": "python"
    }
  },
  "nbformat": 4,
  "nbformat_minor": 0
}