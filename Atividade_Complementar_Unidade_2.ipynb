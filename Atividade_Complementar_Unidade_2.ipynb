{
  "nbformat": 4,
  "nbformat_minor": 0,
  "metadata": {
    "colab": {
      "provenance": [],
      "toc_visible": true
    },
    "kernelspec": {
      "name": "python3",
      "display_name": "Python 3"
    },
    "language_info": {
      "name": "python"
    }
  },
  "cells": [
    {
      "cell_type": "markdown",
      "source": [
        "# Importando as bibliotecas: Pandas e Numpy\n",
        "\n"
      ],
      "metadata": {
        "id": "yF5UR41zVN3n"
      }
    },
    {
      "cell_type": "code",
      "source": [
        "import pandas as pd\n",
        "import numpy as np"
      ],
      "metadata": {
        "id": "k8o-S51-ff7S"
      },
      "execution_count": 2,
      "outputs": []
    },
    {
      "cell_type": "markdown",
      "source": [
        "# Importando biblioteca de visualização dos dados:"
      ],
      "metadata": {
        "id": "-DvGe8Qv9Efx"
      }
    },
    {
      "cell_type": "code",
      "source": [
        "import matplotlib.pyplot as plt"
      ],
      "metadata": {
        "id": "7FWYUWZa9VMO"
      },
      "execution_count": 3,
      "outputs": []
    },
    {
      "cell_type": "markdown",
      "source": [
        "# Baixando o dataset Medical Cost Personal Datasets\n",
        "Esse dataset relaciona os dados:\n",
        "\n",
        "| idade | sexo | imc | número de filhos | indicador de fumante | região do usuário | valor do seguro de saúde |\n",
        "\n",
        "em uma amostra de usuário de planos de saúde"
      ],
      "metadata": {
        "id": "1-Xs3QSIVg_i"
      }
    },
    {
      "cell_type": "code",
      "source": [
        "!gdown '16WlPQDl2sQLaEWzH-nix8lF8TPjsfP97'"
      ],
      "metadata": {
        "colab": {
          "base_uri": "https://localhost:8080/"
        },
        "id": "IGxoEOJMWbIv",
        "outputId": "540b6761-1ca0-442b-b87f-9491d61712f0"
      },
      "execution_count": 4,
      "outputs": [
        {
          "output_type": "stream",
          "name": "stdout",
          "text": [
            "Downloading...\n",
            "From: https://drive.google.com/uc?id=16WlPQDl2sQLaEWzH-nix8lF8TPjsfP97\n",
            "To: /content/insurance.csv\n",
            "\r  0% 0.00/55.6k [00:00<?, ?B/s]\r100% 55.6k/55.6k [00:00<00:00, 65.4MB/s]\n"
          ]
        }
      ]
    },
    {
      "cell_type": "markdown",
      "source": [
        "# Carregando o dataset usando a biblioteca Pandas"
      ],
      "metadata": {
        "id": "1ooekbpsVSLo"
      }
    },
    {
      "cell_type": "code",
      "source": [
        "df = pd.read_csv('insurance.csv')\n",
        "df.head()\n"
      ],
      "metadata": {
        "colab": {
          "base_uri": "https://localhost:8080/",
          "height": 206
        },
        "id": "QAuMngD3Uswp",
        "outputId": "42841f42-4691-4697-c497-9915ea2d5875"
      },
      "execution_count": 5,
      "outputs": [
        {
          "output_type": "execute_result",
          "data": {
            "text/plain": [
              "   age     sex     bmi  children smoker     region      charges\n",
              "0   19  female  27.900         0    yes  southwest  16884.92400\n",
              "1   18    male  33.770         1     no  southeast   1725.55230\n",
              "2   28    male  33.000         3     no  southeast   4449.46200\n",
              "3   33    male  22.705         0     no  northwest  21984.47061\n",
              "4   32    male  28.880         0     no  northwest   3866.85520"
            ],
            "text/html": [
              "\n",
              "  <div id=\"df-ae2ef9a4-f6c6-434f-97d5-d3be122bd58d\" class=\"colab-df-container\">\n",
              "    <div>\n",
              "<style scoped>\n",
              "    .dataframe tbody tr th:only-of-type {\n",
              "        vertical-align: middle;\n",
              "    }\n",
              "\n",
              "    .dataframe tbody tr th {\n",
              "        vertical-align: top;\n",
              "    }\n",
              "\n",
              "    .dataframe thead th {\n",
              "        text-align: right;\n",
              "    }\n",
              "</style>\n",
              "<table border=\"1\" class=\"dataframe\">\n",
              "  <thead>\n",
              "    <tr style=\"text-align: right;\">\n",
              "      <th></th>\n",
              "      <th>age</th>\n",
              "      <th>sex</th>\n",
              "      <th>bmi</th>\n",
              "      <th>children</th>\n",
              "      <th>smoker</th>\n",
              "      <th>region</th>\n",
              "      <th>charges</th>\n",
              "    </tr>\n",
              "  </thead>\n",
              "  <tbody>\n",
              "    <tr>\n",
              "      <th>0</th>\n",
              "      <td>19</td>\n",
              "      <td>female</td>\n",
              "      <td>27.900</td>\n",
              "      <td>0</td>\n",
              "      <td>yes</td>\n",
              "      <td>southwest</td>\n",
              "      <td>16884.92400</td>\n",
              "    </tr>\n",
              "    <tr>\n",
              "      <th>1</th>\n",
              "      <td>18</td>\n",
              "      <td>male</td>\n",
              "      <td>33.770</td>\n",
              "      <td>1</td>\n",
              "      <td>no</td>\n",
              "      <td>southeast</td>\n",
              "      <td>1725.55230</td>\n",
              "    </tr>\n",
              "    <tr>\n",
              "      <th>2</th>\n",
              "      <td>28</td>\n",
              "      <td>male</td>\n",
              "      <td>33.000</td>\n",
              "      <td>3</td>\n",
              "      <td>no</td>\n",
              "      <td>southeast</td>\n",
              "      <td>4449.46200</td>\n",
              "    </tr>\n",
              "    <tr>\n",
              "      <th>3</th>\n",
              "      <td>33</td>\n",
              "      <td>male</td>\n",
              "      <td>22.705</td>\n",
              "      <td>0</td>\n",
              "      <td>no</td>\n",
              "      <td>northwest</td>\n",
              "      <td>21984.47061</td>\n",
              "    </tr>\n",
              "    <tr>\n",
              "      <th>4</th>\n",
              "      <td>32</td>\n",
              "      <td>male</td>\n",
              "      <td>28.880</td>\n",
              "      <td>0</td>\n",
              "      <td>no</td>\n",
              "      <td>northwest</td>\n",
              "      <td>3866.85520</td>\n",
              "    </tr>\n",
              "  </tbody>\n",
              "</table>\n",
              "</div>\n",
              "    <div class=\"colab-df-buttons\">\n",
              "\n",
              "  <div class=\"colab-df-container\">\n",
              "    <button class=\"colab-df-convert\" onclick=\"convertToInteractive('df-ae2ef9a4-f6c6-434f-97d5-d3be122bd58d')\"\n",
              "            title=\"Convert this dataframe to an interactive table.\"\n",
              "            style=\"display:none;\">\n",
              "\n",
              "  <svg xmlns=\"http://www.w3.org/2000/svg\" height=\"24px\" viewBox=\"0 -960 960 960\">\n",
              "    <path d=\"M120-120v-720h720v720H120Zm60-500h600v-160H180v160Zm220 220h160v-160H400v160Zm0 220h160v-160H400v160ZM180-400h160v-160H180v160Zm440 0h160v-160H620v160ZM180-180h160v-160H180v160Zm440 0h160v-160H620v160Z\"/>\n",
              "  </svg>\n",
              "    </button>\n",
              "\n",
              "  <style>\n",
              "    .colab-df-container {\n",
              "      display:flex;\n",
              "      gap: 12px;\n",
              "    }\n",
              "\n",
              "    .colab-df-convert {\n",
              "      background-color: #E8F0FE;\n",
              "      border: none;\n",
              "      border-radius: 50%;\n",
              "      cursor: pointer;\n",
              "      display: none;\n",
              "      fill: #1967D2;\n",
              "      height: 32px;\n",
              "      padding: 0 0 0 0;\n",
              "      width: 32px;\n",
              "    }\n",
              "\n",
              "    .colab-df-convert:hover {\n",
              "      background-color: #E2EBFA;\n",
              "      box-shadow: 0px 1px 2px rgba(60, 64, 67, 0.3), 0px 1px 3px 1px rgba(60, 64, 67, 0.15);\n",
              "      fill: #174EA6;\n",
              "    }\n",
              "\n",
              "    .colab-df-buttons div {\n",
              "      margin-bottom: 4px;\n",
              "    }\n",
              "\n",
              "    [theme=dark] .colab-df-convert {\n",
              "      background-color: #3B4455;\n",
              "      fill: #D2E3FC;\n",
              "    }\n",
              "\n",
              "    [theme=dark] .colab-df-convert:hover {\n",
              "      background-color: #434B5C;\n",
              "      box-shadow: 0px 1px 3px 1px rgba(0, 0, 0, 0.15);\n",
              "      filter: drop-shadow(0px 1px 2px rgba(0, 0, 0, 0.3));\n",
              "      fill: #FFFFFF;\n",
              "    }\n",
              "  </style>\n",
              "\n",
              "    <script>\n",
              "      const buttonEl =\n",
              "        document.querySelector('#df-ae2ef9a4-f6c6-434f-97d5-d3be122bd58d button.colab-df-convert');\n",
              "      buttonEl.style.display =\n",
              "        google.colab.kernel.accessAllowed ? 'block' : 'none';\n",
              "\n",
              "      async function convertToInteractive(key) {\n",
              "        const element = document.querySelector('#df-ae2ef9a4-f6c6-434f-97d5-d3be122bd58d');\n",
              "        const dataTable =\n",
              "          await google.colab.kernel.invokeFunction('convertToInteractive',\n",
              "                                                    [key], {});\n",
              "        if (!dataTable) return;\n",
              "\n",
              "        const docLinkHtml = 'Like what you see? Visit the ' +\n",
              "          '<a target=\"_blank\" href=https://colab.research.google.com/notebooks/data_table.ipynb>data table notebook</a>'\n",
              "          + ' to learn more about interactive tables.';\n",
              "        element.innerHTML = '';\n",
              "        dataTable['output_type'] = 'display_data';\n",
              "        await google.colab.output.renderOutput(dataTable, element);\n",
              "        const docLink = document.createElement('div');\n",
              "        docLink.innerHTML = docLinkHtml;\n",
              "        element.appendChild(docLink);\n",
              "      }\n",
              "    </script>\n",
              "  </div>\n",
              "\n",
              "\n",
              "<div id=\"df-5dbdddba-ce7c-4144-8dc9-6437ffdf9b3b\">\n",
              "  <button class=\"colab-df-quickchart\" onclick=\"quickchart('df-5dbdddba-ce7c-4144-8dc9-6437ffdf9b3b')\"\n",
              "            title=\"Suggest charts\"\n",
              "            style=\"display:none;\">\n",
              "\n",
              "<svg xmlns=\"http://www.w3.org/2000/svg\" height=\"24px\"viewBox=\"0 0 24 24\"\n",
              "     width=\"24px\">\n",
              "    <g>\n",
              "        <path d=\"M19 3H5c-1.1 0-2 .9-2 2v14c0 1.1.9 2 2 2h14c1.1 0 2-.9 2-2V5c0-1.1-.9-2-2-2zM9 17H7v-7h2v7zm4 0h-2V7h2v10zm4 0h-2v-4h2v4z\"/>\n",
              "    </g>\n",
              "</svg>\n",
              "  </button>\n",
              "\n",
              "<style>\n",
              "  .colab-df-quickchart {\n",
              "      --bg-color: #E8F0FE;\n",
              "      --fill-color: #1967D2;\n",
              "      --hover-bg-color: #E2EBFA;\n",
              "      --hover-fill-color: #174EA6;\n",
              "      --disabled-fill-color: #AAA;\n",
              "      --disabled-bg-color: #DDD;\n",
              "  }\n",
              "\n",
              "  [theme=dark] .colab-df-quickchart {\n",
              "      --bg-color: #3B4455;\n",
              "      --fill-color: #D2E3FC;\n",
              "      --hover-bg-color: #434B5C;\n",
              "      --hover-fill-color: #FFFFFF;\n",
              "      --disabled-bg-color: #3B4455;\n",
              "      --disabled-fill-color: #666;\n",
              "  }\n",
              "\n",
              "  .colab-df-quickchart {\n",
              "    background-color: var(--bg-color);\n",
              "    border: none;\n",
              "    border-radius: 50%;\n",
              "    cursor: pointer;\n",
              "    display: none;\n",
              "    fill: var(--fill-color);\n",
              "    height: 32px;\n",
              "    padding: 0;\n",
              "    width: 32px;\n",
              "  }\n",
              "\n",
              "  .colab-df-quickchart:hover {\n",
              "    background-color: var(--hover-bg-color);\n",
              "    box-shadow: 0 1px 2px rgba(60, 64, 67, 0.3), 0 1px 3px 1px rgba(60, 64, 67, 0.15);\n",
              "    fill: var(--button-hover-fill-color);\n",
              "  }\n",
              "\n",
              "  .colab-df-quickchart-complete:disabled,\n",
              "  .colab-df-quickchart-complete:disabled:hover {\n",
              "    background-color: var(--disabled-bg-color);\n",
              "    fill: var(--disabled-fill-color);\n",
              "    box-shadow: none;\n",
              "  }\n",
              "\n",
              "  .colab-df-spinner {\n",
              "    border: 2px solid var(--fill-color);\n",
              "    border-color: transparent;\n",
              "    border-bottom-color: var(--fill-color);\n",
              "    animation:\n",
              "      spin 1s steps(1) infinite;\n",
              "  }\n",
              "\n",
              "  @keyframes spin {\n",
              "    0% {\n",
              "      border-color: transparent;\n",
              "      border-bottom-color: var(--fill-color);\n",
              "      border-left-color: var(--fill-color);\n",
              "    }\n",
              "    20% {\n",
              "      border-color: transparent;\n",
              "      border-left-color: var(--fill-color);\n",
              "      border-top-color: var(--fill-color);\n",
              "    }\n",
              "    30% {\n",
              "      border-color: transparent;\n",
              "      border-left-color: var(--fill-color);\n",
              "      border-top-color: var(--fill-color);\n",
              "      border-right-color: var(--fill-color);\n",
              "    }\n",
              "    40% {\n",
              "      border-color: transparent;\n",
              "      border-right-color: var(--fill-color);\n",
              "      border-top-color: var(--fill-color);\n",
              "    }\n",
              "    60% {\n",
              "      border-color: transparent;\n",
              "      border-right-color: var(--fill-color);\n",
              "    }\n",
              "    80% {\n",
              "      border-color: transparent;\n",
              "      border-right-color: var(--fill-color);\n",
              "      border-bottom-color: var(--fill-color);\n",
              "    }\n",
              "    90% {\n",
              "      border-color: transparent;\n",
              "      border-bottom-color: var(--fill-color);\n",
              "    }\n",
              "  }\n",
              "</style>\n",
              "\n",
              "  <script>\n",
              "    async function quickchart(key) {\n",
              "      const quickchartButtonEl =\n",
              "        document.querySelector('#' + key + ' button');\n",
              "      quickchartButtonEl.disabled = true;  // To prevent multiple clicks.\n",
              "      quickchartButtonEl.classList.add('colab-df-spinner');\n",
              "      try {\n",
              "        const charts = await google.colab.kernel.invokeFunction(\n",
              "            'suggestCharts', [key], {});\n",
              "      } catch (error) {\n",
              "        console.error('Error during call to suggestCharts:', error);\n",
              "      }\n",
              "      quickchartButtonEl.classList.remove('colab-df-spinner');\n",
              "      quickchartButtonEl.classList.add('colab-df-quickchart-complete');\n",
              "    }\n",
              "    (() => {\n",
              "      let quickchartButtonEl =\n",
              "        document.querySelector('#df-5dbdddba-ce7c-4144-8dc9-6437ffdf9b3b button');\n",
              "      quickchartButtonEl.style.display =\n",
              "        google.colab.kernel.accessAllowed ? 'block' : 'none';\n",
              "    })();\n",
              "  </script>\n",
              "</div>\n",
              "\n",
              "    </div>\n",
              "  </div>\n"
            ],
            "application/vnd.google.colaboratory.intrinsic+json": {
              "type": "dataframe",
              "variable_name": "df",
              "summary": "{\n  \"name\": \"df\",\n  \"rows\": 1338,\n  \"fields\": [\n    {\n      \"column\": \"age\",\n      \"properties\": {\n        \"dtype\": \"number\",\n        \"std\": 14,\n        \"min\": 18,\n        \"max\": 64,\n        \"num_unique_values\": 47,\n        \"samples\": [\n          21,\n          45,\n          36\n        ],\n        \"semantic_type\": \"\",\n        \"description\": \"\"\n      }\n    },\n    {\n      \"column\": \"sex\",\n      \"properties\": {\n        \"dtype\": \"category\",\n        \"num_unique_values\": 2,\n        \"samples\": [\n          \"male\",\n          \"female\"\n        ],\n        \"semantic_type\": \"\",\n        \"description\": \"\"\n      }\n    },\n    {\n      \"column\": \"bmi\",\n      \"properties\": {\n        \"dtype\": \"number\",\n        \"std\": 6.098186911679014,\n        \"min\": 15.96,\n        \"max\": 53.13,\n        \"num_unique_values\": 548,\n        \"samples\": [\n          23.18,\n          26.885\n        ],\n        \"semantic_type\": \"\",\n        \"description\": \"\"\n      }\n    },\n    {\n      \"column\": \"children\",\n      \"properties\": {\n        \"dtype\": \"number\",\n        \"std\": 1,\n        \"min\": 0,\n        \"max\": 5,\n        \"num_unique_values\": 6,\n        \"samples\": [\n          0,\n          1\n        ],\n        \"semantic_type\": \"\",\n        \"description\": \"\"\n      }\n    },\n    {\n      \"column\": \"smoker\",\n      \"properties\": {\n        \"dtype\": \"category\",\n        \"num_unique_values\": 2,\n        \"samples\": [\n          \"no\",\n          \"yes\"\n        ],\n        \"semantic_type\": \"\",\n        \"description\": \"\"\n      }\n    },\n    {\n      \"column\": \"region\",\n      \"properties\": {\n        \"dtype\": \"category\",\n        \"num_unique_values\": 4,\n        \"samples\": [\n          \"southeast\",\n          \"northeast\"\n        ],\n        \"semantic_type\": \"\",\n        \"description\": \"\"\n      }\n    },\n    {\n      \"column\": \"charges\",\n      \"properties\": {\n        \"dtype\": \"number\",\n        \"std\": 12110.011236694001,\n        \"min\": 1121.8739,\n        \"max\": 63770.42801,\n        \"num_unique_values\": 1337,\n        \"samples\": [\n          8688.85885,\n          5708.867\n        ],\n        \"semantic_type\": \"\",\n        \"description\": \"\"\n      }\n    }\n  ]\n}"
            }
          },
          "metadata": {},
          "execution_count": 5
        }
      ]
    },
    {
      "cell_type": "code",
      "source": [
        "print(df)"
      ],
      "metadata": {
        "colab": {
          "base_uri": "https://localhost:8080/"
        },
        "id": "-tjHGR_KAs-P",
        "outputId": "bfc99436-6de9-44d9-c750-17622b70f2c5"
      },
      "execution_count": 6,
      "outputs": [
        {
          "output_type": "stream",
          "name": "stdout",
          "text": [
            "      age     sex     bmi  children smoker     region      charges\n",
            "0      19  female  27.900         0    yes  southwest  16884.92400\n",
            "1      18    male  33.770         1     no  southeast   1725.55230\n",
            "2      28    male  33.000         3     no  southeast   4449.46200\n",
            "3      33    male  22.705         0     no  northwest  21984.47061\n",
            "4      32    male  28.880         0     no  northwest   3866.85520\n",
            "...   ...     ...     ...       ...    ...        ...          ...\n",
            "1333   50    male  30.970         3     no  northwest  10600.54830\n",
            "1334   18  female  31.920         0     no  northeast   2205.98080\n",
            "1335   18  female  36.850         0     no  southeast   1629.83350\n",
            "1336   21  female  25.800         0     no  southwest   2007.94500\n",
            "1337   61  female  29.070         0    yes  northwest  29141.36030\n",
            "\n",
            "[1338 rows x 7 columns]\n"
          ]
        }
      ]
    },
    {
      "cell_type": "markdown",
      "source": [],
      "metadata": {
        "id": "7M84qrav89xR"
      }
    },
    {
      "cell_type": "markdown",
      "source": [
        "# Algumas análises estatísticas"
      ],
      "metadata": {
        "id": "0SfdfTfHXXzw"
      }
    },
    {
      "cell_type": "markdown",
      "source": [
        "## Probabilidade de children >= 1 dado que smoker = 'yes' já ocorreu."
      ],
      "metadata": {
        "id": "oL5v4ugVZrlF"
      }
    },
    {
      "cell_type": "code",
      "source": [
        "# Filtrando as linhas cuja coluna smoker é yes\n",
        "smokers = df[df['smoker'] == 'yes']\n",
        "\n",
        "# Quantidade de linhas cuja coluna children é >=1 e smoker=yes\n",
        "smokers_with_children = smokers[smokers['children'] >= 1].shape[0]\n",
        "\n",
        "# Quantidade de linhas cuja coluna smoker = yes\n",
        "total_smokers = smokers.shape[0]\n",
        "\n",
        "# Calculando a proporção\n",
        "proportion = smokers_with_children / total_smokers\n",
        "print(f'Probabilidade p(children >= 1 | smoker = \\'yes\\') = {proportion:.2f}')"
      ],
      "metadata": {
        "colab": {
          "base_uri": "https://localhost:8080/"
        },
        "id": "fz7l3-FGZrzF",
        "outputId": "594d5e55-6bd3-4e6a-c550-9ddbb396a7f6"
      },
      "execution_count": null,
      "outputs": [
        {
          "output_type": "stream",
          "name": "stdout",
          "text": [
            "Probabilidade p(children >= 1 | smoker = 'yes') = 0.58 \n"
          ]
        }
      ]
    },
    {
      "cell_type": "markdown",
      "source": [
        "## Agora pela regra de **Bayes**"
      ],
      "metadata": {
        "id": "fWRAhtMKa-rk"
      }
    },
    {
      "cell_type": "code",
      "source": [
        "# Quantidade de linhas no dataset\n",
        "total_lines = df.shape[0]\n",
        "\n",
        "# Quantidade de linhas cuja coluna smoker é yes\n",
        "smokers = df[df['smoker'] == 'yes'].shape[0]\n",
        "\n",
        "# Quantidade de linhas cuja coluna children é >= 1\n",
        "children_table = df[df['children'] >= 1]\n",
        "children = children_table.shape[0]\n",
        "\n",
        "# Quantidade de linhas cuja coluna smoker é 'yes' na tabela children_table\n",
        "smokers_in_children_table = children_table[children_table['smoker'] == 'yes'].shape[0]\n",
        "\n",
        "# p(smoke = 'yes' | children >= 1) = smokers_in_children_table/children\n",
        "# p(children >= 1) = children/total_lines\n",
        "# p(smoke = 'yes') = smokers/total_lines\n",
        "# p(children >= 1 | smoke = 'yes') = p(smoke = 'yes' | children >= 1) * p(children >= 1) / p(smoke = 'yes')\n",
        "bayes = (smokers_in_children_table/children)*(children/total_lines)/(smokers/total_lines)\n",
        "print(f'Probabilidade p(children >= 1 | smoke = \\'yes\\') = {bayes:.2f}')\n"
      ],
      "metadata": {
        "colab": {
          "base_uri": "https://localhost:8080/"
        },
        "id": "Qbh1a8qEbFHe",
        "outputId": "05a30a26-24db-42ef-828c-863af17691be"
      },
      "execution_count": null,
      "outputs": [
        {
          "output_type": "stream",
          "name": "stdout",
          "text": [
            "Probabilidade p(children >= 1 | smoke = 'yes') = 0.58\n"
          ]
        }
      ]
    },
    {
      "cell_type": "markdown",
      "source": [
        "# AGORA É COM VOCÊ! TENTE O SEGUINTE EXERCÍCIO"
      ],
      "metadata": {
        "id": "PxAe5uk1Y1Py"
      }
    },
    {
      "cell_type": "markdown",
      "source": [
        "### QUESTÃO 1: Dado que os usuários do plano de saúde são fumantes, qual a probabilidade dele ser homem?"
      ],
      "metadata": {
        "id": "oiFKNfDzddbr"
      }
    },
    {
      "cell_type": "code",
      "source": [
        "# Total de dados do dataset:\n",
        "\n",
        "Total = len(df)\n",
        "print('Total de pessoas no dataset: ', Total)"
      ],
      "metadata": {
        "id": "wWdTARVQdwkm",
        "colab": {
          "base_uri": "https://localhost:8080/"
        },
        "outputId": "392a0f56-81f9-4812-bd72-5737469a5a10"
      },
      "execution_count": 7,
      "outputs": [
        {
          "output_type": "stream",
          "name": "stdout",
          "text": [
            "Total de pessoas no dataset:  1338\n"
          ]
        }
      ]
    },
    {
      "cell_type": "code",
      "source": [
        "# Total de fumantes:\n",
        "fumantes = df[df['smoker'] == 'yes']\n",
        "\n",
        "valor_fumantes  = len(fumantes)\n",
        "print('Fumantes: ', valor_fumantes)\n",
        "\n",
        "# Homens:\n",
        "homens = df[(df['sex'] == 'male') & (df['smoker'] == 'yes')]\n",
        "\n",
        "valor_homens = len(homens)\n",
        "print('Homens: ', valor_homens)\n",
        "\n",
        "# Probabilidade:\n",
        "\n",
        "probabilidade = valor_homens / valor_fumantes;\n",
        "print(f'A probabilidade de ser um homem fumante é: {probabilidade:.2f} %.')"
      ],
      "metadata": {
        "colab": {
          "base_uri": "https://localhost:8080/"
        },
        "id": "n5ttvniHWYbM",
        "outputId": "85cab5e4-022d-4ccc-ffb3-281c5720c049"
      },
      "execution_count": 8,
      "outputs": [
        {
          "output_type": "stream",
          "name": "stdout",
          "text": [
            "Fumantes:  274\n",
            "Homens:  159\n",
            "A probabilidade de ser um homem fumante é: 0.58 %.\n"
          ]
        }
      ]
    },
    {
      "cell_type": "markdown",
      "source": [
        "### QUESTÃO 2: Dado que os usuários do plano de saúde pagam acima de $20000, qual a probabilidade dele ser mulher?"
      ],
      "metadata": {
        "id": "JPji39s2eEgQ"
      }
    },
    {
      "cell_type": "code",
      "source": [
        "# Pagam acima de 20.000\n",
        "usuarios_acima = df[df['charges']  >= 20000]\n",
        "\n",
        "valor_usuarios = len(usuarios_acima)\n",
        "print('Quantidade de usuários do plano que pagam acima de R$20.000: ', valor_usuarios)\n",
        "\n",
        "\n",
        "# Pagam acima de 20.000 e são mulheres\n",
        "usuarios_mul = df[(df['charges']  >= 20000) & (df['sex']  == 'female')]\n",
        "print(f'A quantidade de mulheres que pagam acima de R$20.000 é: {len(usuarios_mul)}')\n",
        "\n",
        "prob = len(usuarios_mul) / valor_usuarios;\n",
        "print(f'A probabilidade dele ser mulher: {prob:.2f} %');\n",
        "\n",
        "print(\"\\n\");\n",
        "\n",
        "# Dados para o gráfico de pizza\n",
        "labels = ['Usuáriosque pagam acima de 20K', 'Mulheres que pagam acima de 20K']\n",
        "sizes = [valor_usuarios - len(usuarios_mul), len(usuarios_mul)]\n",
        "colors = ['lightgreen', 'lightpink']\n",
        "explode = (0, 0.1)  # Destaque na fatia das mulheres\n",
        "\n",
        "# Criando o gráfico de pizza\n",
        "plt.pie(sizes, explode=explode, labels=labels, colors=colors, autopct='%1.1f%%', shadow=True, startangle=140)\n",
        "plt.axis('equal')  # Assegura que o gráfico seja um círculo\n",
        "plt.title('  Proporção de mulheres entre o total dos usuários que pagam acima de 20K')\n",
        "plt.show()"
      ],
      "metadata": {
        "id": "paFSfU0DeEmw",
        "colab": {
          "base_uri": "https://localhost:8080/",
          "height": 516
        },
        "outputId": "9f90da5e-5da1-4a0c-a5c3-f144189f9bfc"
      },
      "execution_count": 9,
      "outputs": [
        {
          "output_type": "stream",
          "name": "stdout",
          "text": [
            "Quantidade de usuários do plano que pagam acima de R$20.000:  273\n",
            "A quantidade de mulheres que pagam acima de R$20.000 é: 115\n",
            "A probabilidade dele ser mulher: 0.42 %\n",
            "\n",
            "\n"
          ]
        },
        {
          "output_type": "display_data",
          "data": {
            "text/plain": [
              "<Figure size 640x480 with 1 Axes>"
            ],
            "image/png": "[encoded data removed]"
          },
          "metadata": {}
        }
      ]
    },
    {
      "cell_type": "markdown",
      "source": [
        "### QUESTÃO 3: Dado que os usuários do plano de saúde são mulheres e tem filhos, qual a probabilidade de ser fumante?"
      ],
      "metadata": {
        "id": "0ZlUtui7dwvs"
      }
    },
    {
      "cell_type": "code",
      "source": [
        "# Mulheres com filhos:\n",
        "mulheres_filhos = df[(df['sex'] == 'female') & (df['children'] >= 1)]\n",
        "\n",
        "valores = len(mulheres_filhos)\n",
        "print('Quantidade de usuários do plano de saúde que são mulheres e tem filhos: ', valores)\n",
        "\n",
        "# Fumantes:\n",
        "fumantes_com_filhos = df[(df['sex'] == 'female') & (df['children'] >= 1) & (df['smoker'] == 'yes')]\n",
        "\n",
        "valor_fumantes  = len(fumantes_com_filhos )\n",
        "print('Fumantes mulheres com filhos: ', valor_fumantes)\n",
        "\n",
        "p = valor_fumantes / valores;\n",
        "\n",
        "print(f\"Dado que os usuários do plano de saúde são mulheres e tem filhos, a probabilidade de ser fumante é {p:.2f} %'\")\n",
        "print(\"\\n\");\n",
        "\n",
        "# gráfico de barras\n",
        "categorias = ['Mulheres com filhos', 'Fumantes com filhos', 'Probabilidade (%)']\n",
        "quantidades = [valores, valor_fumantes, p * 100]  # Multiplicando p por 100 para representar como porcentagem\n",
        "\n",
        "plt.bar(categorias, quantidades, color=['blue', 'red', 'pink'])\n",
        "plt.xlabel('Categoria')\n",
        "plt.ylabel('Quantidade / Probabilidade (%)')\n",
        "plt.title('Mulheres com filhos (não fumantes) vs Mulheres fumantes com filhos')\n",
        "plt.show()\n"
      ],
      "metadata": {
        "id": "JbPi6FpYeD5i",
        "colab": {
          "base_uri": "https://localhost:8080/",
          "height": 559
        },
        "outputId": "0a565328-f94c-403c-e090-faa37a9202a5"
      },
      "execution_count": 10,
      "outputs": [
        {
          "output_type": "stream",
          "name": "stdout",
          "text": [
            "Quantidade de usuários do plano de saúde que são mulheres e tem filhos:  373\n",
            "Fumantes mulheres com filhos:  62\n",
            "Dado que os usuários do plano de saúde são mulheres e tem filhos, a probabilidade de ser fumante é 0.17 %'\n",
            "\n",
            "\n"
          ]
        },
        {
          "output_type": "display_data",
          "data": {
            "text/plain": [
              "<Figure size 640x480 with 1 Axes>"
            ],
            "image/png": "[encoded data removed]"
          },
          "metadata": {}
        }
      ]
    },
    {
      "cell_type": "markdown",
      "source": [
        "### QUESTÃO 4: Dado que os usuários do plano de saúde tem imc (bmi) acima de 40, qual a probabilidade de ser mulher?"
      ],
      "metadata": {
        "id": "BLYuoYHFeaIt"
      }
    },
    {
      "cell_type": "code",
      "source": [
        "# usuários do plano de saúde tem imc (bmi) acima de 40\n",
        "\n",
        "bmi_alto = df[df['bmi'] > 40]\n",
        "\n",
        "valor_bmi_alto = len(bmi_alto)\n",
        "print(f'Total de usuários do plano de saúde tem imc (bmi) acima de 40: {valor_bmi_alto} pessoas.')\n",
        "\n",
        "mulher_bmi_alto = df[(df['bmi'] > 40) & (df['sex'] == 'female')]\n",
        "\n",
        "valor_mulher_bmialto = len(mulher_bmi_alto)\n",
        "print(f\"Total de mulheres com bmi alto: {valor_mulher_bmialto} pessoas.\")\n",
        "\n",
        "prob3 = valor_mulher_bmialto/valor_bmi_alto;\n",
        "print(f\"A probabilidade de um usuário ter o bmi alto e ser mulher é de: {prob3:.2} %.\")\n",
        "\n",
        "# gráfico de barras\n",
        "categorias = ['Usuários com imc acima de 40', 'Mulheres com imc acima de 40']\n",
        "quantidades = [valor_bmi_alto, valor_mulher_bmialto]\n",
        "\n",
        "plt.bar(categorias, quantidades, color=['yellow', 'green'])\n",
        "plt.xlabel('Categoria')\n",
        "plt.ylabel('Quantidade')\n",
        "plt.show()\n"
      ],
      "metadata": {
        "id": "rMWvDkIPeaR0",
        "colab": {
          "base_uri": "https://localhost:8080/",
          "height": 501
        },
        "outputId": "e4e04d89-91b9-4c8a-a511-ea6adacb9737"
      },
      "execution_count": 11,
      "outputs": [
        {
          "output_type": "stream",
          "name": "stdout",
          "text": [
            "Total de usuários do plano de saúde tem imc (bmi) acima de 40: 91 pessoas.\n",
            "Total de mulheres com bmi alto: 40 pessoas.\n",
            "A probabilidade de um usuário ter o bmi alto e ser mulher é de: 0.44 %.\n"
          ]
        },
        {
          "output_type": "display_data",
          "data": {
            "text/plain": [
              "<Figure size 640x480 with 1 Axes>"
            ],
            "image/png": "[encoded data removed]"
          },
          "metadata": {}
        }
      ]
    },
    {
      "cell_type": "markdown",
      "source": [
        "### QUESTÃO 5: Dado que os usuários do plano de saúde tem mais de 60 anos, qual a probabilidade deles terem imc acima de 30?"
      ],
      "metadata": {
        "id": "YP8WZ4sWewDa"
      }
    },
    {
      "cell_type": "code",
      "source": [
        "# + de 60\n",
        "usuarios_mais = df[df['age'] > 60]\n",
        "\n",
        "# Quantidade de usuários com mais de 60 anos\n",
        "total_usuarios_mais = len(usuarios_mais)\n",
        "print(f'Quantidade de usuários com mais de 60 anos: {total_usuarios_mais} pessoas.')\n",
        "\n",
        "# Usuários com mais de 60 anos e IMC acima de 30\n",
        "usuariosimc_30 = usuarios_mais[usuarios_mais['bmi'] > 30]\n",
        "\n",
        "# Quantidade de usuários com mais de 60 anos e IMC acima de 30\n",
        "total_usuariosimc_30 = len(usuariosimc_30)\n",
        "print(f'Quantidade de usuários com mais de 60 anos e IMC acima de 30: {total_usuariosimc_30} pessoas.')\n",
        "\n",
        "# Probabilidade de ter IMC acima de 30 dado que tem mais de 60 anos\n",
        "prob_imc_acima_30 = total_usuariosimc_30 / total_usuarios_mais\n",
        "print(f'A probabilidade de um usuário com mais de 60 anos ter IMC acima de 30 é: {prob_imc_acima_30:.2%}')\n",
        "\n",
        "# Dados para o gráfico de barras\n",
        "categorias = ['Idade > 60 anos', 'Idade > 60 com IMC > 30']\n",
        "quantidades = [total_usuarios_mais, total_usuariosimc_30]\n",
        "\n",
        "plt.bar(categorias, quantidades, color=['blue', 'orange'])\n",
        "plt.xlabel('Categoria')\n",
        "plt.ylabel('Quantidade')\n",
        "plt.title('Comparação entre Usuários com mais de 60 anos e Usuários com IMC acima de 30')\n",
        "plt.show()\n",
        "\n"
      ],
      "metadata": {
        "id": "ZquZEShIewIp",
        "colab": {
          "base_uri": "https://localhost:8080/",
          "height": 524
        },
        "outputId": "a31379f1-e11e-4ebb-9fe2-79189612e354"
      },
      "execution_count": 17,
      "outputs": [
        {
          "output_type": "stream",
          "name": "stdout",
          "text": [
            "Quantidade de usuários com mais de 60 anos: 91 pessoas.\n",
            "Quantidade de usuários com mais de 60 anos e IMC acima de 30: 63 pessoas.\n",
            "A probabilidade de um usuário com mais de 60 anos ter IMC acima de 30 é: 69.23%\n"
          ]
        },
        {
          "output_type": "display_data",
          "data": {
            "text/plain": [
              "<Figure size 640x480 with 1 Axes>"
            ],
            "image/png": "[encoded data removed]"
          },
          "metadata": {}
        }
      ]
    }
  ]
}